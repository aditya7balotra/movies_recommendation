{
 "cells": [
  {
   "cell_type": "code",
   "execution_count": 3,
   "metadata": {},
   "outputs": [],
   "source": [
    "import pandas as pd\n",
    "import numpy as np"
   ]
  },
  {
   "cell_type": "code",
   "execution_count": 4,
   "metadata": {},
   "outputs": [],
   "source": [
    "# loading both the csv files\n",
    "credit = pd.read_csv('C:/Users/adity/.vscode/.vscode/.vscode/vs_projects/mypythonprjt/jupyter notebooks_py/ML_prj/recommender_system/tmdb_5000_credits.csv')\n",
    "movies = pd.read_csv('C:/Users/adity/.vscode/.vscode/.vscode/vs_projects/mypythonprjt/jupyter notebooks_py/ML_prj/recommender_system/tmdb_5000_movies.csv')\n",
    "\n",
    "\n",
    "## merging and selecting useful features for my project\n",
    "movies = movies.merge(how = 'inner' , left_on='title' , right_on= 'title' , right= credit)\n",
    "removing_col = ['budget' , 'homepage' , 'original_language' , 'original_title' , 'popularity' , 'production_companies' , 'production_countries' , 'revenue' , 'runtime' , 'spoken_languages' , 'tagline' , 'vote_average' , 'release_date' , 'status' , 'vote_count']\n",
    "movies = movies.drop(removing_col , axis = 1)"
   ]
  },
  {
   "cell_type": "code",
   "execution_count": 5,
   "metadata": {},
   "outputs": [
    {
     "data": {
      "text/html": [
       "<div>\n",
       "<style scoped>\n",
       "    .dataframe tbody tr th:only-of-type {\n",
       "        vertical-align: middle;\n",
       "    }\n",
       "\n",
       "    .dataframe tbody tr th {\n",
       "        vertical-align: top;\n",
       "    }\n",
       "\n",
       "    .dataframe thead th {\n",
       "        text-align: right;\n",
       "    }\n",
       "</style>\n",
       "<table border=\"1\" class=\"dataframe\">\n",
       "  <thead>\n",
       "    <tr style=\"text-align: right;\">\n",
       "      <th></th>\n",
       "      <th>genres</th>\n",
       "      <th>id</th>\n",
       "      <th>keywords</th>\n",
       "      <th>overview</th>\n",
       "      <th>title</th>\n",
       "      <th>movie_id</th>\n",
       "      <th>cast</th>\n",
       "      <th>crew</th>\n",
       "    </tr>\n",
       "  </thead>\n",
       "  <tbody>\n",
       "    <tr>\n",
       "      <th>1297</th>\n",
       "      <td>[{\"id\": 35, \"name\": \"Comedy\"}, {\"id\": 28, \"nam...</td>\n",
       "      <td>9531</td>\n",
       "      <td>[{\"id\": 83, \"name\": \"saving the world\"}, {\"id\"...</td>\n",
       "      <td>Aiming to defeat the Man of Steel, wealthy exe...</td>\n",
       "      <td>Superman III</td>\n",
       "      <td>9531</td>\n",
       "      <td>[{\"cast_id\": 1, \"character\": \"Superman / Clark...</td>\n",
       "      <td>[{\"credit_id\": \"5539a98fc3a368784500791d\", \"de...</td>\n",
       "    </tr>\n",
       "    <tr>\n",
       "      <th>1353</th>\n",
       "      <td>[{\"id\": 53, \"name\": \"Thriller\"}, {\"id\": 878, \"...</td>\n",
       "      <td>782</td>\n",
       "      <td>[{\"id\": 856, \"name\": \"paraplegic\"}, {\"id\": 125...</td>\n",
       "      <td>Science fiction drama about a future society i...</td>\n",
       "      <td>Gattaca</td>\n",
       "      <td>782</td>\n",
       "      <td>[{\"cast_id\": 7, \"character\": \"Vincent Freeman\"...</td>\n",
       "      <td>[{\"credit_id\": \"52fe4275c3a36847f8020563\", \"de...</td>\n",
       "    </tr>\n",
       "    <tr>\n",
       "      <th>2061</th>\n",
       "      <td>[{\"id\": 10749, \"name\": \"Romance\"}, {\"id\": 18, ...</td>\n",
       "      <td>21494</td>\n",
       "      <td>[{\"id\": 10965, \"name\": \"playwright\"}]</td>\n",
       "      <td>Molière, a down-and-out actor-cum-playwright u...</td>\n",
       "      <td>Moliere</td>\n",
       "      <td>21494</td>\n",
       "      <td>[{\"cast_id\": 1, \"character\": \"Moliere\", \"credi...</td>\n",
       "      <td>[{\"credit_id\": \"5900754bc3a3680fcc00a327\", \"de...</td>\n",
       "    </tr>\n",
       "    <tr>\n",
       "      <th>3050</th>\n",
       "      <td>[{\"id\": 18, \"name\": \"Drama\"}]</td>\n",
       "      <td>87093</td>\n",
       "      <td>[{\"id\": 1157, \"name\": \"wife husband relationsh...</td>\n",
       "      <td>The story of the awakening of the painter, Mar...</td>\n",
       "      <td>Big Eyes</td>\n",
       "      <td>87093</td>\n",
       "      <td>[{\"cast_id\": 8, \"character\": \"Margaret Keane\",...</td>\n",
       "      <td>[{\"credit_id\": \"52fe49b59251416c910b622d\", \"de...</td>\n",
       "    </tr>\n",
       "    <tr>\n",
       "      <th>1511</th>\n",
       "      <td>[{\"id\": 12, \"name\": \"Adventure\"}, {\"id\": 18, \"...</td>\n",
       "      <td>157841</td>\n",
       "      <td>[{\"id\": 13008, \"name\": \"train\"}, {\"id\": 214527...</td>\n",
       "      <td>A 12-year-old cartographer secretly leaves his...</td>\n",
       "      <td>The Young and Prodigious T.S. Spivet</td>\n",
       "      <td>157841</td>\n",
       "      <td>[{\"cast_id\": 16, \"character\": \"T.S. Spivet\", \"...</td>\n",
       "      <td>[{\"credit_id\": \"52fe4bd49251416c910e6fc7\", \"de...</td>\n",
       "    </tr>\n",
       "  </tbody>\n",
       "</table>\n",
       "</div>"
      ],
      "text/plain": [
       "                                                 genres      id  \\\n",
       "1297  [{\"id\": 35, \"name\": \"Comedy\"}, {\"id\": 28, \"nam...    9531   \n",
       "1353  [{\"id\": 53, \"name\": \"Thriller\"}, {\"id\": 878, \"...     782   \n",
       "2061  [{\"id\": 10749, \"name\": \"Romance\"}, {\"id\": 18, ...   21494   \n",
       "3050                      [{\"id\": 18, \"name\": \"Drama\"}]   87093   \n",
       "1511  [{\"id\": 12, \"name\": \"Adventure\"}, {\"id\": 18, \"...  157841   \n",
       "\n",
       "                                               keywords  \\\n",
       "1297  [{\"id\": 83, \"name\": \"saving the world\"}, {\"id\"...   \n",
       "1353  [{\"id\": 856, \"name\": \"paraplegic\"}, {\"id\": 125...   \n",
       "2061              [{\"id\": 10965, \"name\": \"playwright\"}]   \n",
       "3050  [{\"id\": 1157, \"name\": \"wife husband relationsh...   \n",
       "1511  [{\"id\": 13008, \"name\": \"train\"}, {\"id\": 214527...   \n",
       "\n",
       "                                               overview  \\\n",
       "1297  Aiming to defeat the Man of Steel, wealthy exe...   \n",
       "1353  Science fiction drama about a future society i...   \n",
       "2061  Molière, a down-and-out actor-cum-playwright u...   \n",
       "3050  The story of the awakening of the painter, Mar...   \n",
       "1511  A 12-year-old cartographer secretly leaves his...   \n",
       "\n",
       "                                     title  movie_id  \\\n",
       "1297                          Superman III      9531   \n",
       "1353                               Gattaca       782   \n",
       "2061                               Moliere     21494   \n",
       "3050                              Big Eyes     87093   \n",
       "1511  The Young and Prodigious T.S. Spivet    157841   \n",
       "\n",
       "                                                   cast  \\\n",
       "1297  [{\"cast_id\": 1, \"character\": \"Superman / Clark...   \n",
       "1353  [{\"cast_id\": 7, \"character\": \"Vincent Freeman\"...   \n",
       "2061  [{\"cast_id\": 1, \"character\": \"Moliere\", \"credi...   \n",
       "3050  [{\"cast_id\": 8, \"character\": \"Margaret Keane\",...   \n",
       "1511  [{\"cast_id\": 16, \"character\": \"T.S. Spivet\", \"...   \n",
       "\n",
       "                                                   crew  \n",
       "1297  [{\"credit_id\": \"5539a98fc3a368784500791d\", \"de...  \n",
       "1353  [{\"credit_id\": \"52fe4275c3a36847f8020563\", \"de...  \n",
       "2061  [{\"credit_id\": \"5900754bc3a3680fcc00a327\", \"de...  \n",
       "3050  [{\"credit_id\": \"52fe49b59251416c910b622d\", \"de...  \n",
       "1511  [{\"credit_id\": \"52fe4bd49251416c910e6fc7\", \"de...  "
      ]
     },
     "execution_count": 5,
     "metadata": {},
     "output_type": "execute_result"
    }
   ],
   "source": [
    "movies.dropna(inplace= True)\n",
    "movies.sample(5)"
   ]
  },
  {
   "cell_type": "code",
   "execution_count": 6,
   "metadata": {},
   "outputs": [
    {
     "name": "stdout",
     "output_type": "stream",
     "text": [
      "(4806, 8)\n"
     ]
    },
    {
     "data": {
      "text/plain": [
       "(4803, 4)"
      ]
     },
     "execution_count": 6,
     "metadata": {},
     "output_type": "execute_result"
    }
   ],
   "source": [
    "print(movies.shape)\n",
    "credit.shape"
   ]
  },
  {
   "cell_type": "markdown",
   "metadata": {},
   "source": [
    "## extracting the tags from the important columns"
   ]
  },
  {
   "cell_type": "code",
   "execution_count": 7,
   "metadata": {},
   "outputs": [],
   "source": [
    "def mine(obj):\n",
    "    '''this function is to mine the necessary stuff from the list of dictionaries in some important columns of the dataset'''\n",
    "    obj = eval(obj)\n",
    "    core = []\n",
    "    for i in range(len(obj)):\n",
    "        core.append(obj[i]['name'])\n",
    "        \n",
    "    return core\n",
    "\n",
    "def mine_2(obj):\n",
    "    '''for cast column'''\n",
    "    obj = eval(obj)\n",
    "    core_2 = []\n",
    "    try:\n",
    "        for i in range(3):\n",
    "            core_2.append(obj[i]['name'])\n",
    "            \n",
    "    except:\n",
    "        try:\n",
    "            for i in range(2):\n",
    "                core_2.append(obj[i]['name'])\n",
    "        except:\n",
    "            try:\n",
    "                for i in range(1):\n",
    "                    core_2.append(obj[i]['name'])\n",
    "            except:\n",
    "                pass\n",
    "        \n",
    "    return core_2\n",
    "\n",
    "def mine_3(obj):\n",
    "    '''for crew column as i want to get the name of only with job vlaue director'''\n",
    "    obj = eval(obj)\n",
    "    core_3 = []\n",
    "    a = 0\n",
    "    try:\n",
    "        while True:\n",
    "            if obj[a]['job'] == 'Director':\n",
    "                core_3.append(obj[a]['name'])\n",
    "            a +=1\n",
    "    except:\n",
    "        pass\n",
    "    \n",
    "    return core_3\n",
    "\n",
    "movies['genres'] = movies['genres'].apply(mine)\n",
    "movies['keywords'] = movies['keywords'].apply(mine)\n",
    "movies['cast'] = movies['cast'].apply(mine_2)\n",
    "movies['crew'] = movies['crew'].apply(mine_3)\n",
    "movies['overview'] = movies['overview'].apply(lambda x : x.split())\n",
    "movies['genres'] = movies['genres'].apply(lambda x: [txt.replace(\" \",'') for txt in x])\n",
    "movies['cast'] = movies['cast'].apply(lambda x: [txt.replace(\" \",'') for txt in x])\n",
    "movies['crew'] = movies['crew'].apply(lambda x: [txt.replace(\" \",'') for txt in x])\n",
    "movies['keywords'] = movies['keywords'].apply(lambda x: [txt.replace(\" \",'') for txt in x])\n",
    "movies['tags'] = movies['overview'] + movies['genres'] + movies['keywords'] + movies['cast'] + movies['crew']\n"
   ]
  },
  {
   "cell_type": "markdown",
   "metadata": {},
   "source": [
    "## getting and working with the new dataframe 'df'"
   ]
  },
  {
   "cell_type": "code",
   "execution_count": 8,
   "metadata": {},
   "outputs": [],
   "source": [
    "new_df = movies.loc[:,['movie_id' , 'title' , 'tags']]\n",
    "new_df['tags'] = new_df['tags'].apply(lambda x: (' '.join(x)).lower())"
   ]
  },
  {
   "cell_type": "code",
   "execution_count": 9,
   "metadata": {},
   "outputs": [
    {
     "data": {
      "text/html": [
       "<div>\n",
       "<style scoped>\n",
       "    .dataframe tbody tr th:only-of-type {\n",
       "        vertical-align: middle;\n",
       "    }\n",
       "\n",
       "    .dataframe tbody tr th {\n",
       "        vertical-align: top;\n",
       "    }\n",
       "\n",
       "    .dataframe thead th {\n",
       "        text-align: right;\n",
       "    }\n",
       "</style>\n",
       "<table border=\"1\" class=\"dataframe\">\n",
       "  <thead>\n",
       "    <tr style=\"text-align: right;\">\n",
       "      <th></th>\n",
       "      <th>movie_id</th>\n",
       "      <th>title</th>\n",
       "      <th>tags</th>\n",
       "    </tr>\n",
       "  </thead>\n",
       "  <tbody>\n",
       "    <tr>\n",
       "      <th>0</th>\n",
       "      <td>19995</td>\n",
       "      <td>Avatar</td>\n",
       "      <td>in the 22nd century, a paraplegic marine is di...</td>\n",
       "    </tr>\n",
       "    <tr>\n",
       "      <th>1</th>\n",
       "      <td>285</td>\n",
       "      <td>Pirates of the Caribbean: At World's End</td>\n",
       "      <td>captain barbossa, long believed to be dead, ha...</td>\n",
       "    </tr>\n",
       "    <tr>\n",
       "      <th>2</th>\n",
       "      <td>206647</td>\n",
       "      <td>Spectre</td>\n",
       "      <td>a cryptic message from bond’s past sends him o...</td>\n",
       "    </tr>\n",
       "    <tr>\n",
       "      <th>3</th>\n",
       "      <td>49026</td>\n",
       "      <td>The Dark Knight Rises</td>\n",
       "      <td>following the death of district attorney harve...</td>\n",
       "    </tr>\n",
       "    <tr>\n",
       "      <th>4</th>\n",
       "      <td>49529</td>\n",
       "      <td>John Carter</td>\n",
       "      <td>john carter is a war-weary, former military ca...</td>\n",
       "    </tr>\n",
       "  </tbody>\n",
       "</table>\n",
       "</div>"
      ],
      "text/plain": [
       "   movie_id                                     title  \\\n",
       "0     19995                                    Avatar   \n",
       "1       285  Pirates of the Caribbean: At World's End   \n",
       "2    206647                                   Spectre   \n",
       "3     49026                     The Dark Knight Rises   \n",
       "4     49529                               John Carter   \n",
       "\n",
       "                                                tags  \n",
       "0  in the 22nd century, a paraplegic marine is di...  \n",
       "1  captain barbossa, long believed to be dead, ha...  \n",
       "2  a cryptic message from bond’s past sends him o...  \n",
       "3  following the death of district attorney harve...  \n",
       "4  john carter is a war-weary, former military ca...  "
      ]
     },
     "execution_count": 9,
     "metadata": {},
     "output_type": "execute_result"
    }
   ],
   "source": [
    "new_df.head(5)"
   ]
  },
  {
   "cell_type": "markdown",
   "metadata": {},
   "source": [
    "## feature extraction"
   ]
  },
  {
   "cell_type": "code",
   "execution_count": 10,
   "metadata": {},
   "outputs": [],
   "source": [
    "from sklearn.feature_extraction.text import CountVectorizer\n",
    "from nltk.tokenize import word_tokenize , sent_tokenize\n",
    "from nltk.stem import PorterStemmer"
   ]
  },
  {
   "cell_type": "code",
   "execution_count": 11,
   "metadata": {},
   "outputs": [],
   "source": [
    "ps = PorterStemmer()\n",
    "def stemming(text):\n",
    "    y = []\n",
    "    for i in text.split():\n",
    "        y.append(ps.stem(i))\n",
    "        \n",
    "    return ' '.join(y)\n",
    "\n",
    "new_df['tags'] = new_df['tags'].apply(stemming)\n",
    "\n",
    "cv = CountVectorizer(stop_words= 'english' , max_features= 4000)\n",
    "vectors = cv.fit_transform(new_df['tags']).toarray()"
   ]
  },
  {
   "cell_type": "code",
   "execution_count": 12,
   "metadata": {},
   "outputs": [],
   "source": [
    "from sklearn.metrics.pairwise import cosine_similarity\n",
    "cos_theta = cosine_similarity(vectors)"
   ]
  },
  {
   "cell_type": "code",
   "execution_count": 18,
   "metadata": {},
   "outputs": [
    {
     "ename": "IndexError",
     "evalue": "list index out of range",
     "output_type": "error",
     "traceback": [
      "\u001b[1;31m---------------------------------------------------------------------------\u001b[0m",
      "\u001b[1;31mIndexError\u001b[0m                                Traceback (most recent call last)",
      "Cell \u001b[1;32mIn[18], line 8\u001b[0m\n\u001b[0;32m      5\u001b[0m     rec_movies \u001b[38;5;241m=\u001b[39m [new_df[\u001b[38;5;124m'\u001b[39m\u001b[38;5;124mtitle\u001b[39m\u001b[38;5;124m'\u001b[39m][ind] \u001b[38;5;28;01mfor\u001b[39;00m ind \u001b[38;5;129;01min\u001b[39;00m similar_5_index]\n\u001b[0;32m      6\u001b[0m     \u001b[38;5;28;01mreturn\u001b[39;00m rec_movies\n\u001b[1;32m----> 8\u001b[0m \u001b[43mrecommend\u001b[49m\u001b[43m(\u001b[49m\u001b[38;5;124;43m'\u001b[39;49m\u001b[38;5;124;43mTerminator 3\u001b[39;49m\u001b[38;5;124;43m'\u001b[39;49m\u001b[43m)\u001b[49m\n",
      "Cell \u001b[1;32mIn[18], line 4\u001b[0m, in \u001b[0;36mrecommend\u001b[1;34m(movie)\u001b[0m\n\u001b[0;32m      2\u001b[0m index \u001b[38;5;241m=\u001b[39m (new_df[new_df[\u001b[38;5;124m'\u001b[39m\u001b[38;5;124mtitle\u001b[39m\u001b[38;5;124m'\u001b[39m] \u001b[38;5;241m==\u001b[39m movie]\u001b[38;5;241m.\u001b[39mindex)\n\u001b[0;32m      3\u001b[0m \u001b[38;5;28mtype\u001b[39m(index)\n\u001b[1;32m----> 4\u001b[0m similar_5_index \u001b[38;5;241m=\u001b[39m \u001b[38;5;28;43mlist\u001b[39;49m\u001b[43m(\u001b[49m\u001b[43mnp\u001b[49m\u001b[38;5;241;43m.\u001b[39;49m\u001b[43margsort\u001b[49m\u001b[43m(\u001b[49m\u001b[43mcos_theta\u001b[49m\u001b[43m[\u001b[49m\u001b[43mindex\u001b[49m\u001b[43m]\u001b[49m\u001b[43m)\u001b[49m\u001b[43m)\u001b[49m\u001b[43m[\u001b[49m\u001b[38;5;241;43m0\u001b[39;49m\u001b[43m]\u001b[49m[::\u001b[38;5;241m-\u001b[39m\u001b[38;5;241m1\u001b[39m][\u001b[38;5;241m1\u001b[39m:\u001b[38;5;241m6\u001b[39m]\n\u001b[0;32m      5\u001b[0m rec_movies \u001b[38;5;241m=\u001b[39m [new_df[\u001b[38;5;124m'\u001b[39m\u001b[38;5;124mtitle\u001b[39m\u001b[38;5;124m'\u001b[39m][ind] \u001b[38;5;28;01mfor\u001b[39;00m ind \u001b[38;5;129;01min\u001b[39;00m similar_5_index]\n\u001b[0;32m      6\u001b[0m \u001b[38;5;28;01mreturn\u001b[39;00m rec_movies\n",
      "\u001b[1;31mIndexError\u001b[0m: list index out of range"
     ]
    }
   ],
   "source": [
    "def recommend(movie):\n",
    "    index = (new_df[new_df['title'] == movie].index)\n",
    "    type(index)\n",
    "    similar_5_index = list(np.argsort(cos_theta[index]))[0][::-1][1:6]\n",
    "    rec_movies = [new_df['title'][ind] for ind in similar_5_index]\n",
    "    return rec_movies\n",
    "\n",
    "recommend('Terminator 3')"
   ]
  },
  {
   "cell_type": "code",
   "execution_count": null,
   "metadata": {},
   "outputs": [],
   "source": []
  },
  {
   "cell_type": "code",
   "execution_count": null,
   "metadata": {},
   "outputs": [],
   "source": []
  },
  {
   "cell_type": "code",
   "execution_count": null,
   "metadata": {},
   "outputs": [],
   "source": []
  },
  {
   "cell_type": "code",
   "execution_count": null,
   "metadata": {},
   "outputs": [],
   "source": []
  }
 ],
 "metadata": {
  "kernelspec": {
   "display_name": "Python 3",
   "language": "python",
   "name": "python3"
  },
  "language_info": {
   "codemirror_mode": {
    "name": "ipython",
    "version": 3
   },
   "file_extension": ".py",
   "mimetype": "text/x-python",
   "name": "python",
   "nbconvert_exporter": "python",
   "pygments_lexer": "ipython3",
   "version": "3.11.7"
  }
 },
 "nbformat": 4,
 "nbformat_minor": 2
}

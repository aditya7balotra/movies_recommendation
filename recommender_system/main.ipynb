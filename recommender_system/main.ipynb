{
 "cells": [
  {
   "cell_type": "code",
   "execution_count": 94,
   "metadata": {},
   "outputs": [],
   "source": [
    "import pandas as pd\n",
    "import numpy as np"
   ]
  },
  {
   "cell_type": "code",
   "execution_count": 95,
   "metadata": {},
   "outputs": [],
   "source": [
    "# loading both the csv files\n",
    "credit = pd.read_csv('recommender_system/tmdb_5000_credits.csv')\n",
    "movies = pd.read_csv('recommender_system/tmdb_5000_movies.csv')\n",
    "\n",
    "\n",
    "## merging and selecting useful features for my project\n",
    "movies = movies.merge(how = 'inner' , left_on='title' , right_on= 'title' , right= credit)\n",
    "removing_col = ['budget' , 'homepage' , 'original_language' , 'original_title' , 'popularity' , 'production_companies' , 'production_countries' , 'revenue' , 'runtime' , 'spoken_languages' , 'tagline' , 'vote_average' , 'release_date' , 'status' , 'vote_count']\n",
    "movies = movies.drop(removing_col , axis = 1)"
   ]
  },
  {
   "cell_type": "code",
   "execution_count": 96,
   "metadata": {},
   "outputs": [
    {
     "data": {
      "text/html": [
       "<div>\n",
       "<style scoped>\n",
       "    .dataframe tbody tr th:only-of-type {\n",
       "        vertical-align: middle;\n",
       "    }\n",
       "\n",
       "    .dataframe tbody tr th {\n",
       "        vertical-align: top;\n",
       "    }\n",
       "\n",
       "    .dataframe thead th {\n",
       "        text-align: right;\n",
       "    }\n",
       "</style>\n",
       "<table border=\"1\" class=\"dataframe\">\n",
       "  <thead>\n",
       "    <tr style=\"text-align: right;\">\n",
       "      <th></th>\n",
       "      <th>genres</th>\n",
       "      <th>id</th>\n",
       "      <th>keywords</th>\n",
       "      <th>overview</th>\n",
       "      <th>title</th>\n",
       "      <th>movie_id</th>\n",
       "      <th>cast</th>\n",
       "      <th>crew</th>\n",
       "    </tr>\n",
       "  </thead>\n",
       "  <tbody>\n",
       "    <tr>\n",
       "      <th>2998</th>\n",
       "      <td>[{\"id\": 28, \"name\": \"Action\"}, {\"id\": 12, \"nam...</td>\n",
       "      <td>9355</td>\n",
       "      <td>[{\"id\": 1395, \"name\": \"arena\"}, {\"id\": 1965, \"...</td>\n",
       "      <td>Mad Max becomes a pawn in a decadent oasis of ...</td>\n",
       "      <td>Mad Max Beyond Thunderdome</td>\n",
       "      <td>9355</td>\n",
       "      <td>[{\"cast_id\": 1, \"character\": \"Mad Max Rockatan...</td>\n",
       "      <td>[{\"credit_id\": \"52fe44ecc3a36847f80b218b\", \"de...</td>\n",
       "    </tr>\n",
       "    <tr>\n",
       "      <th>3827</th>\n",
       "      <td>[{\"id\": 35, \"name\": \"Comedy\"}, {\"id\": 18, \"nam...</td>\n",
       "      <td>8618</td>\n",
       "      <td>[{\"id\": 237, \"name\": \"gay\"}, {\"id\": 1412, \"nam...</td>\n",
       "      <td>The story of an unruly class of bright, funny ...</td>\n",
       "      <td>The History Boys</td>\n",
       "      <td>8618</td>\n",
       "      <td>[{\"cast_id\": 1, \"character\": \"Crowther\", \"cred...</td>\n",
       "      <td>[{\"credit_id\": \"52fe44b0c3a36847f80a48d1\", \"de...</td>\n",
       "    </tr>\n",
       "    <tr>\n",
       "      <th>1145</th>\n",
       "      <td>[{\"id\": 53, \"name\": \"Thriller\"}, {\"id\": 14, \"n...</td>\n",
       "      <td>10610</td>\n",
       "      <td>[{\"id\": 703, \"name\": \"detective\"}, {\"id\": 1456...</td>\n",
       "      <td>A Hong Kong detective suffers a fatal accident...</td>\n",
       "      <td>The Medallion</td>\n",
       "      <td>10610</td>\n",
       "      <td>[{\"cast_id\": 1, \"character\": \"Eddie Yang\", \"cr...</td>\n",
       "      <td>[{\"credit_id\": \"52fe43939251416c75015bd7\", \"de...</td>\n",
       "    </tr>\n",
       "    <tr>\n",
       "      <th>1111</th>\n",
       "      <td>[{\"id\": 14, \"name\": \"Fantasy\"}, {\"id\": 28, \"na...</td>\n",
       "      <td>834</td>\n",
       "      <td>[{\"id\": 810, \"name\": \"budapest\"}, {\"id\": 2849,...</td>\n",
       "      <td>As the war between the vampires and the Lycans...</td>\n",
       "      <td>Underworld: Evolution</td>\n",
       "      <td>834</td>\n",
       "      <td>[{\"cast_id\": 1, \"character\": \"Selene\", \"credit...</td>\n",
       "      <td>[{\"credit_id\": \"52fe427ec3a36847f8023033\", \"de...</td>\n",
       "    </tr>\n",
       "    <tr>\n",
       "      <th>3227</th>\n",
       "      <td>[{\"id\": 28, \"name\": \"Action\"}, {\"id\": 12, \"nam...</td>\n",
       "      <td>152747</td>\n",
       "      <td>[{\"id\": 3342, \"name\": \"yacht\"}, {\"id\": 41599, ...</td>\n",
       "      <td>Deep into a solo voyage in the Indian Ocean, a...</td>\n",
       "      <td>All Is Lost</td>\n",
       "      <td>152747</td>\n",
       "      <td>[{\"cast_id\": 7, \"character\": \"Our Man\", \"credi...</td>\n",
       "      <td>[{\"credit_id\": \"548dab3f92514122ea00461e\", \"de...</td>\n",
       "    </tr>\n",
       "  </tbody>\n",
       "</table>\n",
       "</div>"
      ],
      "text/plain": [
       "                                                 genres      id  \\\n",
       "2998  [{\"id\": 28, \"name\": \"Action\"}, {\"id\": 12, \"nam...    9355   \n",
       "3827  [{\"id\": 35, \"name\": \"Comedy\"}, {\"id\": 18, \"nam...    8618   \n",
       "1145  [{\"id\": 53, \"name\": \"Thriller\"}, {\"id\": 14, \"n...   10610   \n",
       "1111  [{\"id\": 14, \"name\": \"Fantasy\"}, {\"id\": 28, \"na...     834   \n",
       "3227  [{\"id\": 28, \"name\": \"Action\"}, {\"id\": 12, \"nam...  152747   \n",
       "\n",
       "                                               keywords  \\\n",
       "2998  [{\"id\": 1395, \"name\": \"arena\"}, {\"id\": 1965, \"...   \n",
       "3827  [{\"id\": 237, \"name\": \"gay\"}, {\"id\": 1412, \"nam...   \n",
       "1145  [{\"id\": 703, \"name\": \"detective\"}, {\"id\": 1456...   \n",
       "1111  [{\"id\": 810, \"name\": \"budapest\"}, {\"id\": 2849,...   \n",
       "3227  [{\"id\": 3342, \"name\": \"yacht\"}, {\"id\": 41599, ...   \n",
       "\n",
       "                                               overview  \\\n",
       "2998  Mad Max becomes a pawn in a decadent oasis of ...   \n",
       "3827  The story of an unruly class of bright, funny ...   \n",
       "1145  A Hong Kong detective suffers a fatal accident...   \n",
       "1111  As the war between the vampires and the Lycans...   \n",
       "3227  Deep into a solo voyage in the Indian Ocean, a...   \n",
       "\n",
       "                           title  movie_id  \\\n",
       "2998  Mad Max Beyond Thunderdome      9355   \n",
       "3827            The History Boys      8618   \n",
       "1145               The Medallion     10610   \n",
       "1111       Underworld: Evolution       834   \n",
       "3227                 All Is Lost    152747   \n",
       "\n",
       "                                                   cast  \\\n",
       "2998  [{\"cast_id\": 1, \"character\": \"Mad Max Rockatan...   \n",
       "3827  [{\"cast_id\": 1, \"character\": \"Crowther\", \"cred...   \n",
       "1145  [{\"cast_id\": 1, \"character\": \"Eddie Yang\", \"cr...   \n",
       "1111  [{\"cast_id\": 1, \"character\": \"Selene\", \"credit...   \n",
       "3227  [{\"cast_id\": 7, \"character\": \"Our Man\", \"credi...   \n",
       "\n",
       "                                                   crew  \n",
       "2998  [{\"credit_id\": \"52fe44ecc3a36847f80b218b\", \"de...  \n",
       "3827  [{\"credit_id\": \"52fe44b0c3a36847f80a48d1\", \"de...  \n",
       "1145  [{\"credit_id\": \"52fe43939251416c75015bd7\", \"de...  \n",
       "1111  [{\"credit_id\": \"52fe427ec3a36847f8023033\", \"de...  \n",
       "3227  [{\"credit_id\": \"548dab3f92514122ea00461e\", \"de...  "
      ]
     },
     "execution_count": 96,
     "metadata": {},
     "output_type": "execute_result"
    }
   ],
   "source": [
    "movies.dropna(inplace= True)\n",
    "movies.sample(5)"
   ]
  },
  {
   "cell_type": "code",
   "execution_count": 97,
   "metadata": {},
   "outputs": [
    {
     "name": "stdout",
     "output_type": "stream",
     "text": [
      "(4806, 8)\n"
     ]
    },
    {
     "data": {
      "text/plain": [
       "(4803, 4)"
      ]
     },
     "execution_count": 97,
     "metadata": {},
     "output_type": "execute_result"
    }
   ],
   "source": [
    "print(movies.shape)\n",
    "credit.shape"
   ]
  },
  {
   "cell_type": "markdown",
   "metadata": {},
   "source": [
    "## extracting the tags from the important columns"
   ]
  },
  {
   "cell_type": "code",
   "execution_count": 98,
   "metadata": {},
   "outputs": [],
   "source": [
    "def mine(obj):\n",
    "    '''this function is to mine the necessary stuff from the list of dictionaries in some important columns of the dataset'''\n",
    "    obj = eval(obj)\n",
    "    core = []\n",
    "    for i in range(len(obj)):\n",
    "        core.append(obj[i]['name'])\n",
    "        \n",
    "    return core\n",
    "\n",
    "def mine_2(obj):\n",
    "    '''for cast column'''\n",
    "    obj = eval(obj)\n",
    "    core_2 = []\n",
    "    try:\n",
    "        for i in range(3):\n",
    "            core_2.append(obj[i]['name'])\n",
    "            \n",
    "    except:\n",
    "        try:\n",
    "            for i in range(2):\n",
    "                core_2.append(obj[i]['name'])\n",
    "        except:\n",
    "            try:\n",
    "                for i in range(1):\n",
    "                    core_2.append(obj[i]['name'])\n",
    "            except:\n",
    "                pass\n",
    "        \n",
    "    return core_2\n",
    "\n",
    "def mine_3(obj):\n",
    "    '''for crew column as i want to get the name of only with job vlaue director'''\n",
    "    obj = eval(obj)\n",
    "    core_3 = []\n",
    "    a = 0\n",
    "    try:\n",
    "        while True:\n",
    "            if obj[a]['job'] == 'Director':\n",
    "                core_3.append(obj[a]['name'])\n",
    "            a +=1\n",
    "    except:\n",
    "        pass\n",
    "    \n",
    "    return core_3\n",
    "\n",
    "movies['genres'] = movies['genres'].apply(mine)\n",
    "movies['keywords'] = movies['keywords'].apply(mine)\n",
    "movies['cast'] = movies['cast'].apply(mine_2)\n",
    "movies['crew'] = movies['crew'].apply(mine_3)\n",
    "movies['overview'] = movies['overview'].apply(lambda x : x.split())\n",
    "movies['genres'] = movies['genres'].apply(lambda x: [txt.replace(\" \",'') for txt in x])\n",
    "movies['cast'] = movies['cast'].apply(lambda x: [txt.replace(\" \",'') for txt in x])\n",
    "movies['crew'] = movies['crew'].apply(lambda x: [txt.replace(\" \",'') for txt in x])\n",
    "movies['keywords'] = movies['keywords'].apply(lambda x: [txt.replace(\" \",'') for txt in x])\n",
    "movies['tags'] = movies['overview'] + movies['genres'] + movies['keywords'] + movies['cast'] + movies['crew']\n"
   ]
  },
  {
   "cell_type": "markdown",
   "metadata": {},
   "source": [
    "## getting and working with the new dataframe 'df'"
   ]
  },
  {
   "cell_type": "code",
   "execution_count": 99,
   "metadata": {},
   "outputs": [],
   "source": [
    "new_df = movies.loc[:,['movie_id' , 'title' , 'tags']]\n",
    "new_df['tags'] = new_df['tags'].apply(lambda x: (' '.join(x)).lower())"
   ]
  },
  {
   "cell_type": "code",
   "execution_count": 100,
   "metadata": {},
   "outputs": [
    {
     "data": {
      "text/html": [
       "<div>\n",
       "<style scoped>\n",
       "    .dataframe tbody tr th:only-of-type {\n",
       "        vertical-align: middle;\n",
       "    }\n",
       "\n",
       "    .dataframe tbody tr th {\n",
       "        vertical-align: top;\n",
       "    }\n",
       "\n",
       "    .dataframe thead th {\n",
       "        text-align: right;\n",
       "    }\n",
       "</style>\n",
       "<table border=\"1\" class=\"dataframe\">\n",
       "  <thead>\n",
       "    <tr style=\"text-align: right;\">\n",
       "      <th></th>\n",
       "      <th>movie_id</th>\n",
       "      <th>title</th>\n",
       "      <th>tags</th>\n",
       "    </tr>\n",
       "  </thead>\n",
       "  <tbody>\n",
       "    <tr>\n",
       "      <th>0</th>\n",
       "      <td>19995</td>\n",
       "      <td>Avatar</td>\n",
       "      <td>in the 22nd century, a paraplegic marine is di...</td>\n",
       "    </tr>\n",
       "    <tr>\n",
       "      <th>1</th>\n",
       "      <td>285</td>\n",
       "      <td>Pirates of the Caribbean: At World's End</td>\n",
       "      <td>captain barbossa, long believed to be dead, ha...</td>\n",
       "    </tr>\n",
       "    <tr>\n",
       "      <th>2</th>\n",
       "      <td>206647</td>\n",
       "      <td>Spectre</td>\n",
       "      <td>a cryptic message from bond’s past sends him o...</td>\n",
       "    </tr>\n",
       "    <tr>\n",
       "      <th>3</th>\n",
       "      <td>49026</td>\n",
       "      <td>The Dark Knight Rises</td>\n",
       "      <td>following the death of district attorney harve...</td>\n",
       "    </tr>\n",
       "    <tr>\n",
       "      <th>4</th>\n",
       "      <td>49529</td>\n",
       "      <td>John Carter</td>\n",
       "      <td>john carter is a war-weary, former military ca...</td>\n",
       "    </tr>\n",
       "  </tbody>\n",
       "</table>\n",
       "</div>"
      ],
      "text/plain": [
       "   movie_id                                     title  \\\n",
       "0     19995                                    Avatar   \n",
       "1       285  Pirates of the Caribbean: At World's End   \n",
       "2    206647                                   Spectre   \n",
       "3     49026                     The Dark Knight Rises   \n",
       "4     49529                               John Carter   \n",
       "\n",
       "                                                tags  \n",
       "0  in the 22nd century, a paraplegic marine is di...  \n",
       "1  captain barbossa, long believed to be dead, ha...  \n",
       "2  a cryptic message from bond’s past sends him o...  \n",
       "3  following the death of district attorney harve...  \n",
       "4  john carter is a war-weary, former military ca...  "
      ]
     },
     "execution_count": 100,
     "metadata": {},
     "output_type": "execute_result"
    }
   ],
   "source": [
    "new_df.head(5)"
   ]
  },
  {
   "cell_type": "markdown",
   "metadata": {},
   "source": [
    "## feature extraction"
   ]
  },
  {
   "cell_type": "code",
   "execution_count": 101,
   "metadata": {},
   "outputs": [],
   "source": [
    "from sklearn.feature_extraction.text import CountVectorizer\n",
    "from nltk.tokenize import word_tokenize , sent_tokenize\n",
    "from nltk.stem import PorterStemmer"
   ]
  },
  {
   "cell_type": "code",
   "execution_count": 102,
   "metadata": {},
   "outputs": [],
   "source": [
    "ps = PorterStemmer()\n",
    "def stemming(text):\n",
    "    y = []\n",
    "    for i in text.split():\n",
    "        y.append(ps.stem(i))\n",
    "        \n",
    "    return ' '.join(y)\n",
    "\n",
    "new_df['tags'] = new_df['tags'].apply(stemming)\n",
    "\n",
    "cv = CountVectorizer(stop_words= 'english' , max_features= 4000)\n",
    "vectors = cv.fit_transform(new_df['tags']).toarray()"
   ]
  },
  {
   "cell_type": "code",
   "execution_count": 103,
   "metadata": {},
   "outputs": [],
   "source": [
    "from sklearn.metrics.pairwise import cosine_similarity\n",
    "cos_theta = cosine_similarity(vectors)"
   ]
  },
  {
   "cell_type": "code",
   "execution_count": 106,
   "metadata": {},
   "outputs": [
    {
     "data": {
      "text/plain": [
       "['Iron Man 3', 'Iron Man 2', 'Iron Man', 'Thor', 'The Avengers']"
      ]
     },
     "execution_count": 106,
     "metadata": {},
     "output_type": "execute_result"
    }
   ],
   "source": [
    "def recommend(movie):\n",
    "    index = (new_df[new_df['title'] == movie].index)\n",
    "    type(index)\n",
    "    similar_5_index = list(np.argsort(cos_theta[index]))[0][::-1][1:6]\n",
    "    rec_movies = [new_df['title'][ind] for ind in similar_5_index]\n",
    "    return rec_movies\n",
    "\n",
    "recommend('Avengers: Age of Ultron')"
   ]
  },
  {
   "cell_type": "code",
   "execution_count": null,
   "metadata": {},
   "outputs": [],
   "source": []
  },
  {
   "cell_type": "code",
   "execution_count": null,
   "metadata": {},
   "outputs": [],
   "source": []
  },
  {
   "cell_type": "code",
   "execution_count": null,
   "metadata": {},
   "outputs": [],
   "source": []
  },
  {
   "cell_type": "code",
   "execution_count": null,
   "metadata": {},
   "outputs": [],
   "source": []
  }
 ],
 "metadata": {
  "kernelspec": {
   "display_name": "Python 3",
   "language": "python",
   "name": "python3"
  },
  "language_info": {
   "codemirror_mode": {
    "name": "ipython",
    "version": 3
   },
   "file_extension": ".py",
   "mimetype": "text/x-python",
   "name": "python",
   "nbconvert_exporter": "python",
   "pygments_lexer": "ipython3",
   "version": "3.11.7"
  }
 },
 "nbformat": 4,
 "nbformat_minor": 2
}
